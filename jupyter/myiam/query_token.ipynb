{
 "cells": [
  {
   "cell_type": "code",
   "execution_count": 61,
   "metadata": {},
   "outputs": [],
   "source": [
    "#!/usr/bin/python\n",
    "# -*- coding: utf-8 -*-\n",
    "# tencentcloud Version 3 signing example\n",
    "import hashlib\n",
    "import hmac\n",
    "import json\n",
    "import time\n",
    "from datetime import datetime\n",
    "import requests\n",
    "from urllib.parse import urlparse\n",
    "from urllib.parse import urlsplit\n",
    "from urllib.parse import parse_qsl"
   ]
  },
  {
   "cell_type": "code",
   "execution_count": 51,
   "metadata": {},
   "outputs": [],
   "source": [
    "# request params\n",
    "client_id = 'xiKJn2DO9X58JTb3'\n",
    "redirect_uri = 'http://myiam.example.com'\n",
    "response_type = 'code'\n",
    "scope = 'all'\n",
    "state = 'ecescefs'\n",
    "login_name = '15901010220'\n",
    "password = '12345678'\n",
    "\n",
    "# request uri\n",
    "request_uri = 'http://myiam.example.com:30080/api/login'"
   ]
  },
  {
   "cell_type": "code",
   "execution_count": 52,
   "metadata": {},
   "outputs": [
    {
     "name": "stdout",
     "output_type": "stream",
     "text": [
      "{\"client_id\":\"xiKJn2DO9X58JTb3\",\"redirect_uri\":\"http://myiam.example.com\",\"response_type\":\"code\",\"scope\":\"all\",\"state\":\"ecescefs\",\"login_name\":\"15901010220\",\"password\":\"12345678\"}\n"
     ]
    }
   ],
   "source": [
    "# request params to json\n",
    "d = {'client_id':client_id,\n",
    "     'redirect_uri':redirect_uri,\n",
    "     'response_type':response_type,\n",
    "     'scope':scope,\n",
    "     'state':state,\n",
    "     'login_name':login_name,\n",
    "     'password':password}\n",
    "request_json = json.dumps(d, separators=(',',':'), ensure_ascii=False, sort_keys=False)\n",
    "print(request_json)"
   ]
  },
  {
   "cell_type": "code",
   "execution_count": 53,
   "metadata": {},
   "outputs": [
    {
     "name": "stdout",
     "output_type": "stream",
     "text": [
      "rsp code: 200\n",
      "\n",
      "{\"code\":0,\"msg\":\"成功\",\"redirect_uri\":\"http://myiam.example.com?code=S8UTTXXEMTWFV-AV_WRVUA\\u0026state=ecescefs\"}\n"
     ]
    }
   ],
   "source": [
    "# request header\n",
    "headers = {'Content-Type': 'application/json'}\n",
    "\n",
    "# post request\n",
    "rsp = requests.post(request_uri, json=d, headers=headers)\n",
    "print('rsp code: %d\\n' % rsp.status_code)\n",
    "print(rsp.text)\n"
   ]
  },
  {
   "cell_type": "code",
   "execution_count": 54,
   "metadata": {},
   "outputs": [
    {
     "name": "stdout",
     "output_type": "stream",
     "text": [
      "{'code': 0, 'msg': '成功', 'redirect_uri': 'http://myiam.example.com?code=S8UTTXXEMTWFV-AV_WRVUA&state=ecescefs'}\n"
     ]
    }
   ],
   "source": [
    "# parse rsp text to json\n",
    "rsp_data = json.loads(rsp.text)\n",
    "print(rsp_data)"
   ]
  },
  {
   "cell_type": "code",
   "execution_count": 63,
   "metadata": {},
   "outputs": [
    {
     "name": "stdout",
     "output_type": "stream",
     "text": [
      "http://myiam.example.com?code=S8UTTXXEMTWFV-AV_WRVUA&state=ecescefs\n",
      "SplitResult(scheme='http', netloc='myiam.example.com', path='', query='code=S8UTTXXEMTWFV-AV_WRVUA&state=ecescefs', fragment='')\n",
      "[('code', 'S8UTTXXEMTWFV-AV_WRVUA'), ('state', 'ecescefs')]\n",
      "{'code': 'S8UTTXXEMTWFV-AV_WRVUA', 'state': 'ecescefs'}\n"
     ]
    }
   ],
   "source": [
    "# parse redirect uri pick out authorization code\n",
    "rsp_redirect_uri = rsp_data['redirect_uri']\n",
    "print(rsp_redirect_uri)\n",
    "split_uri = urlsplit(rsp_redirect_uri)\n",
    "print(split_uri)\n",
    "qs = parse_qsl(split_uri.query)\n",
    "print(qs)\n",
    "params = dict(qs)\n",
    "print(params)\n"
   ]
  },
  {
   "cell_type": "code",
   "execution_count": null,
   "metadata": {},
   "outputs": [],
   "source": []
  }
 ],
 "metadata": {
  "kernelspec": {
   "display_name": "Python 3",
   "language": "python",
   "name": "python3"
  },
  "language_info": {
   "codemirror_mode": {
    "name": "ipython",
    "version": 3
   },
   "file_extension": ".py",
   "mimetype": "text/x-python",
   "name": "python",
   "nbconvert_exporter": "python",
   "pygments_lexer": "ipython3",
   "version": "3.7.2"
  }
 },
 "nbformat": 4,
 "nbformat_minor": 2
}
